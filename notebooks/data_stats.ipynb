{
 "cells": [
  {
   "cell_type": "code",
   "execution_count": null,
   "metadata": {},
   "outputs": [],
   "source": [
    "import os\n",
    "import sqlite3\n",
    "from collections import Counter\n",
    "\n",
    "import pandas as pd\n",
    "import seaborn as sns\n",
    "\n",
    "if os.path.basename(os.getcwd()) == \"notebooks\":\n",
    "    os.chdir(os.path.dirname(os.getcwd()))\n",
    "\n",
    "from coral.Dialect_Helper import Dialect_Helper\n",
    "from coral.Geography_Helper import Geography_Helper\n",
    "\n",
    "dialect_helper = Dialect_Helper()"
   ]
  },
  {
   "cell_type": "markdown",
   "metadata": {},
   "source": [
    "## Load Data"
   ]
  },
  {
   "cell_type": "code",
   "execution_count": null,
   "metadata": {
    "vscode": {
     "languageId": "ruby"
    }
   },
   "outputs": [],
   "source": [
    "path_sqlite = '/Volumes/CoRal/_new_structure/raw/CoRal_public.db'\n",
    "\n",
    "# Connect to the SQLite database\n",
    "conn = sqlite3.connect(path_sqlite)\n",
    "\n",
    "# Define the SQL query to select the table\n",
    "query = \"SELECT * FROM Speakers\"\n",
    "\n",
    "# Load the table into a pandas dataframe\n",
    "df_speakers = pd.read_sql_query(query, conn)\n",
    "\n",
    "# Close the database connection\n",
    "conn.close()\n"
   ]
  },
  {
   "cell_type": "code",
   "execution_count": null,
   "metadata": {
    "vscode": {
     "languageId": "ruby"
    }
   },
   "outputs": [],
   "source": [
    "df_speakers['dialect_lvl1'] = df_speakers['dialect'].apply(\n",
    "    lambda x: dialect_helper.convert_to_depth(x,1))\n",
    "df_speakers['dialect_lvl2'] = df_speakers['dialect'].apply(\n",
    "    lambda x: dialect_helper.convert_to_depth(x,2))\n",
    "df_speakers['dialect_lvl3'] = df_speakers['dialect'].apply(\n",
    "    lambda x: dialect_helper.convert_to_depth(x,3))\n",
    "df_speakers['dialect_lvl4'] = df_speakers['dialect'].apply(\n",
    "    lambda x: dialect_helper.convert_to_depth(x,4))"
   ]
  },
  {
   "cell_type": "code",
   "execution_count": null,
   "metadata": {
    "vscode": {
     "languageId": "ruby"
    }
   },
   "outputs": [],
   "source": [
    "# Display the dataframe\n",
    "df_speakers"
   ]
  },
  {
   "cell_type": "markdown",
   "metadata": {},
   "source": [
    "## Compute distribution plots"
   ]
  },
  {
   "cell_type": "code",
   "execution_count": null,
   "metadata": {},
   "outputs": [],
   "source": [
    "counts = df_speakers[\"gender\"].value_counts()\n",
    "ax = sns.countplot(df_speakers, x=\"gender\")\n",
    "ax.bar_label(ax.containers[0])"
   ]
  },
  {
   "cell_type": "code",
   "execution_count": null,
   "metadata": {},
   "outputs": [],
   "source": [
    "counts = df_speakers[\"dialect_lvl1\"].value_counts().sort_index()\n",
    "dialects = list(pd.unique(df_speakers[\"dialect_lvl1\"]))\n",
    "dialects.sort()\n",
    "\n",
    "ax = sns.countplot(df_speakers, x=\"dialect_lvl1\", order=dialects)\n",
    "ax.bar_label(ax.containers[0])\n",
    "ax.tick_params(axis=\"x\", rotation=90)"
   ]
  },
  {
   "cell_type": "code",
   "execution_count": null,
   "metadata": {},
   "outputs": [],
   "source": [
    "counts = df_speakers[\"dialect_lvl2\"].value_counts().sort_index()\n",
    "dialects = list(pd.unique(df_speakers[\"dialect_lvl2\"]))\n",
    "dialects.sort()\n",
    "\n",
    "ax = sns.countplot(df_speakers, x=\"dialect_lvl2\", order=dialects)\n",
    "ax.bar_label(ax.containers[0])\n",
    "ax.tick_params(axis=\"x\", rotation=90)"
   ]
  },
  {
   "cell_type": "code",
   "execution_count": null,
   "metadata": {},
   "outputs": [],
   "source": [
    "counts = df_speakers[\"dialect_lvl3\"].value_counts().sort_index()\n",
    "dialects = list(pd.unique(df_speakers[\"dialect_lvl3\"]))\n",
    "dialects.sort()\n",
    "\n",
    "ax = sns.countplot(df_speakers, x=\"dialect_lvl3\", order=dialects)\n",
    "ax.bar_label(ax.containers[0])\n",
    "ax.tick_params(axis=\"x\", rotation=90)"
   ]
  },
  {
   "cell_type": "code",
   "execution_count": null,
   "metadata": {},
   "outputs": [],
   "source": [
    "counts = df_speakers[\"dialect_lvl4\"].value_counts().sort_index()\n",
    "dialects = list(pd.unique(df_speakers[\"dialect_lvl4\"]))\n",
    "dialects.sort()\n",
    "\n",
    "ax = sns.countplot(df_speakers, x=\"dialect_lvl4\", order=dialects)\n",
    "ax.bar_label(ax.containers[0])\n",
    "ax.tick_params(axis=\"x\", rotation=90)"
   ]
  },
  {
   "cell_type": "code",
   "execution_count": null,
   "metadata": {},
   "outputs": [],
   "source": [
    "sns.displot(df_speakers, x=\"age\")"
   ]
  },
  {
   "cell_type": "code",
   "execution_count": null,
   "metadata": {},
   "outputs": [],
   "source": [
    "Counter(df_speakers[\"age\"])"
   ]
  },
  {
   "cell_type": "code",
   "execution_count": null,
   "metadata": {},
   "outputs": [],
   "source": [
    "df_speakers[df_speakers[\"age\"] == 3]"
   ]
  },
  {
   "cell_type": "code",
   "execution_count": null,
   "metadata": {},
   "outputs": [],
   "source": [
    "df_recordings[df_recordings[\"id_speaker\"] == \"spe_518ed29525738cebdac49c49e60ea9d3\"]"
   ]
  },
  {
   "cell_type": "code",
   "execution_count": null,
   "metadata": {},
   "outputs": [],
   "source": [
    "geo_helper = Geography_Helper()"
   ]
  },
  {
   "cell_type": "code",
   "execution_count": null,
   "metadata": {},
   "outputs": [],
   "source": [
    "df_speakers[\"kommunekod\"] = df_speakers[\"zip_school\"].apply(\n",
    "    lambda x: geo_helper.getMunicipality(x)\n",
    ")\n",
    "df_speakers[\"regionskod\"] = df_speakers[\"kommunekod\"].apply(\n",
    "    lambda x: geo_helper.getRegion(x)\n",
    ")"
   ]
  },
  {
   "cell_type": "code",
   "execution_count": null,
   "metadata": {},
   "outputs": [],
   "source": [
    "df_count_zip = df_speakers.groupby([\"zip_school\"]).size().reset_index(name=\"count\")\n",
    "df_count_zip = df_count_zip.rename(columns={\"zip_school\": \"postnummer\"})\n",
    "\n",
    "dfmap_zip = geo_helper.get_dfmap(\"zipcode\")\n",
    "\n",
    "dfmap_zip = pd.merge(dfmap_zip, df_count_zip, how=\"left\", on=\"postnummer\")\n",
    "dfmap_zip[\"count\"] = dfmap_zip[\"count\"].fillna(0.0)\n",
    "dfmap_zip.plot(\"count\", cmap=\"viridis\", legend=True)"
   ]
  },
  {
   "cell_type": "code",
   "execution_count": null,
   "metadata": {},
   "outputs": [],
   "source": [
    "dfmap_zip.explore(column=\"count\", tooltip=[\"navn\", \"postnummer\", \"count\"], popup=True)"
   ]
  },
  {
   "cell_type": "code",
   "execution_count": null,
   "metadata": {},
   "outputs": [],
   "source": [
    "df_count_mun = df_speakers.groupby([\"kommunekod\"]).size().reset_index(name=\"count\")\n",
    "\n",
    "dfmap_mun = geo_helper.get_dfmap(\"municipality\")\n",
    "\n",
    "dfmap_mun = pd.merge(dfmap_mun, df_count_mun, how=\"left\", on=\"kommunekod\")\n",
    "dfmap_mun[\"count\"] = dfmap_mun[\"count\"].fillna(0.0)\n",
    "dfmap_mun.plot(\"count\", cmap=\"viridis\", legend=True)"
   ]
  },
  {
   "cell_type": "code",
   "execution_count": null,
   "metadata": {},
   "outputs": [],
   "source": [
    "dfmap_mun.explore(column=\"count\", tooltip=[\"navn\", \"kommunekod\", \"count\"], popup=True)"
   ]
  },
  {
   "cell_type": "code",
   "execution_count": null,
   "metadata": {},
   "outputs": [],
   "source": [
    "df_count_reg = df_speakers.groupby([\"regionskod\"]).size().reset_index(name=\"count\")\n",
    "\n",
    "dfmap_reg = geo_helper.get_dfmap(\"region\")\n",
    "\n",
    "dfmap_reg = pd.merge(dfmap_reg, df_count_reg, how=\"left\", on=\"regionskod\")\n",
    "dfmap_reg[\"count\"] = dfmap_reg[\"count\"].fillna(0.0)\n",
    "dfmap_reg.plot(\"count\", cmap=\"viridis\", legend=True)"
   ]
  },
  {
   "cell_type": "code",
   "execution_count": null,
   "metadata": {},
   "outputs": [],
   "source": []
  },
  {
   "cell_type": "code",
   "execution_count": null,
   "metadata": {},
   "outputs": [],
   "source": [
    "path_sqlite = \"/Volumes/CoRal/_new_structure/raw/CoRal_public.db\"\n",
    "\n",
    "# Connect to the SQLite database\n",
    "conn = sqlite3.connect(path_sqlite)\n",
    "\n",
    "# Define the SQL query to select the table\n",
    "query = \"SELECT * FROM Recordings\"\n",
    "\n",
    "# Load the table into a pandas dataframe\n",
    "df_recordings = pd.read_sql_query(query, conn)\n",
    "\n",
    "# Close the database connection\n",
    "conn.close()"
   ]
  },
  {
   "cell_type": "code",
   "execution_count": null,
   "metadata": {},
   "outputs": [],
   "source": [
    "df_recordings"
   ]
  },
  {
   "cell_type": "code",
   "execution_count": null,
   "metadata": {},
   "outputs": [],
   "source": [
    "df_recordings[\"date\"] = df_recordings[\"datetime_start\"].apply(lambda x: x.split(\" \")[0])\n",
    "\n",
    "Counter(df_recordings[\"date\"])"
   ]
  },
  {
   "cell_type": "code",
   "execution_count": null,
   "metadata": {},
   "outputs": [],
   "source": [
    "unique_values = df_recordings[\"date\"].unique()\n",
    "unique_values.sort()\n",
    "len(unique_values)"
   ]
  },
  {
   "cell_type": "code",
   "execution_count": null,
   "metadata": {},
   "outputs": [],
   "source": [
    "path_sqlite = \"/Volumes/CoRal/_new_structure/raw/CoRal_public.db\"\n",
    "\n",
    "# Connect to the SQLite database\n",
    "conn = sqlite3.connect(path_sqlite)\n",
    "\n",
    "# Define the SQL query to select the table\n",
    "query = \"SELECT * FROM conversations\"\n",
    "\n",
    "# Load the table into a pandas dataframe\n",
    "df_conversations = pd.read_sql_query(query, conn)\n",
    "\n",
    "# Close the database connection\n",
    "conn.close()"
   ]
  },
  {
   "cell_type": "code",
   "execution_count": null,
   "metadata": {},
   "outputs": [],
   "source": [
    "df_conversations"
   ]
  },
  {
   "cell_type": "code",
   "execution_count": null,
   "metadata": {},
   "outputs": [],
   "source": []
  }
 ],
 "metadata": {
  "kernelspec": {
   "display_name": "Python 3.11.0 ('.venv': poetry)",
   "language": "python",
   "name": "python3"
  },
  "language_info": {
   "codemirror_mode": {
    "name": "ipython",
    "version": 3
   },
   "file_extension": ".py",
   "mimetype": "text/x-python",
   "name": "python",
   "nbconvert_exporter": "python",
   "pygments_lexer": "ipython3",
   "version": "3.11.10"
  },
  "vscode": {
   "interpreter": {
    "hash": "539a6cd0f424a0714504c82e57dfed0db3a49f99005862d5e6904d2d478bf7ee"
   }
  }
 },
 "nbformat": 4,
 "nbformat_minor": 2
}
