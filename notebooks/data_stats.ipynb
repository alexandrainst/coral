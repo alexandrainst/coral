{
 "cells": [
  {
   "cell_type": "code",
   "execution_count": null,
   "metadata": {},
   "outputs": [],
   "source": [
    "import os\n",
    "import pandas as pd\n",
    "import seaborn as sns\n",
    "\n",
    "\n",
    "if os.path.basename(os.getcwd()) == 'notebooks':\n",
    "    os.chdir(os.path.dirname(os.getcwd()))\n",
    "\n",
    "from coral_models.Geography_Helper import Geography_Helper"
   ]
  },
  {
   "cell_type": "code",
   "execution_count": null,
   "metadata": {},
   "outputs": [],
   "source": [
    "sns.set(rc={'figure.figsize':(12,8)})"
   ]
  },
  {
   "cell_type": "code",
   "execution_count": null,
   "metadata": {},
   "outputs": [],
   "source": [
    "dir_speaker_data = \"data/hidden/speakers.xlsx\"\n",
    "df_speakers = pd.read_excel(dir_speaker_data)"
   ]
  },
  {
   "cell_type": "code",
   "execution_count": null,
   "metadata": {},
   "outputs": [],
   "source": [
    "df_speakers['gender'] = df_speakers['gender'].replace('F', \"Female\")\n",
    "df_speakers['gender'] = df_speakers['gender'].str.capitalize()\n",
    "\n",
    "df_speakers['dialect'] = df_speakers['dialect'].str.capitalize()\n",
    "df_speakers['dialect'] = df_speakers['dialect'].str.strip()\n",
    "df_speakers['dialect'] = df_speakers['dialect'].replace(\n",
    "    'Djurslandsk (nord-, syddjurs m. nord- og sydsamsø, anholt)', \"Djurslandsk\")\n",
    "df_speakers['dialect'] = df_speakers['dialect'].replace(\n",
    "    'Sønderjysl', \"Sønderjysk\")\n",
    "df_speakers['dialect'] = df_speakers['dialect'].replace(\n",
    "    'Østligt sønderjysk', \"Østligt sønderjysk (m. als)\")\n",
    "df_speakers['dialect'] = df_speakers['dialect'].replace(\n",
    "    'Øststjysk', \"Østjysk\")\n",
    "df_speakers['dialect'] = df_speakers['dialect'].replace(\n",
    "    'Vestlig sønderjysk', \"Vestlig sønderjysk (m. mandø og rømø)\")\n",
    "df_speakers['dialect'] = df_speakers['dialect'].replace(\n",
    "    'Sydsjællandsk', \"Sydsjællandsk (sydligt sydsjællandsk)\")\n",
    "\n"
   ]
  },
  {
   "cell_type": "code",
   "execution_count": null,
   "metadata": {},
   "outputs": [],
   "source": [
    "counts = df_speakers['gender'].value_counts()\n",
    "ax = sns.countplot(df_speakers,x=\"gender\")\n",
    "ax.bar_label(ax.containers[0])"
   ]
  },
  {
   "cell_type": "code",
   "execution_count": null,
   "metadata": {},
   "outputs": [],
   "source": [
    "counts = df_speakers['dialect'].value_counts().sort_index()\n",
    "dialects = list(pd.unique(df_speakers['dialect']))\n",
    "dialects.sort()\n",
    "\n",
    "ax = sns.countplot(df_speakers,x=\"dialect\", order=dialects)\n",
    "ax.bar_label(ax.containers[0])\n",
    "ax.tick_params(axis='x', rotation=90)"
   ]
  },
  {
   "cell_type": "code",
   "execution_count": null,
   "metadata": {},
   "outputs": [],
   "source": [
    "dialects[:20]"
   ]
  },
  {
   "cell_type": "code",
   "execution_count": null,
   "metadata": {},
   "outputs": [],
   "source": [
    "sns.displot(df_speakers, x=\"age\")"
   ]
  },
  {
   "cell_type": "code",
   "execution_count": null,
   "metadata": {},
   "outputs": [],
   "source": [
    "geo_helper = Geography_Helper()\n"
   ]
  },
  {
   "cell_type": "code",
   "execution_count": null,
   "metadata": {},
   "outputs": [],
   "source": [
    "df_speakers['kommunekod'] = df_speakers['zip_grew_up'].apply(\n",
    "    lambda x: geo_helper.getMunicipality(x))\n",
    "df_speakers['regionskod'] = df_speakers['kommunekod'].apply(\n",
    "    lambda x: geo_helper.getRegion(x))\n"
   ]
  },
  {
   "cell_type": "code",
   "execution_count": null,
   "metadata": {},
   "outputs": [],
   "source": [
    "df_count_zip = df_speakers.groupby(['zip_grew_up']).size().reset_index(name='count')\n",
    "df_count_zip = df_count_zip.rename(columns={\"zip_grew_up\": \"postnummer\"})\n",
    "\n",
    "dfmap_zip = geo_helper.get_dfmap('zipcode')\n",
    "\n",
    "dfmap_zip = pd.merge(dfmap_zip, df_count_zip, how=\"left\",on='postnummer')\n",
    "dfmap_zip['count'] = dfmap_zip['count'].fillna(0.)\n",
    "dfmap_zip.plot('count', cmap='viridis', legend=True)"
   ]
  },
  {
   "cell_type": "code",
   "execution_count": null,
   "metadata": {},
   "outputs": [],
   "source": [
    "df_count_mun = df_speakers.groupby(['kommunekod']).size().reset_index(name='count')\n",
    "\n",
    "dfmap_mun = geo_helper.get_dfmap('municipality')\n",
    "\n",
    "dfmap_mun = pd.merge(dfmap_mun, df_count_mun, how=\"left\",on='kommunekod')\n",
    "dfmap_mun['count'] = dfmap_mun['count'].fillna(0.)\n",
    "dfmap_mun.plot('count', cmap='viridis', legend=True)"
   ]
  },
  {
   "cell_type": "code",
   "execution_count": null,
   "metadata": {},
   "outputs": [],
   "source": [
    "dfmap_mun.explore(\n",
    "    column = 'count',\n",
    "    tooltip = ['navn', 'kommunekod', 'count'],\n",
    "    popup=True\n",
    ")"
   ]
  },
  {
   "cell_type": "code",
   "execution_count": null,
   "metadata": {},
   "outputs": [],
   "source": [
    "df_count_reg = df_speakers.groupby(['regionskod']).size().reset_index(name='count')\n",
    "\n",
    "dfmap_reg = geo_helper.get_dfmap('region')\n",
    "\n",
    "dfmap_reg = pd.merge(dfmap_reg, df_count_reg, how=\"left\",on='regionskod')\n",
    "dfmap_reg['count'] = dfmap_reg['count'].fillna(0.)\n",
    "dfmap_reg.plot('count', cmap='viridis', legend=True)"
   ]
  }
 ],
 "metadata": {
  "kernelspec": {
   "display_name": "Python 3.11.0 ('.venv': poetry)",
   "language": "python",
   "name": "python3"
  },
  "language_info": {
   "codemirror_mode": {
    "name": "ipython",
    "version": 3
   },
   "file_extension": ".py",
   "mimetype": "text/x-python",
   "name": "python",
   "nbconvert_exporter": "python",
   "pygments_lexer": "ipython3",
   "version": "3.11.0"
  },
  "vscode": {
   "interpreter": {
    "hash": "539a6cd0f424a0714504c82e57dfed0db3a49f99005862d5e6904d2d478bf7ee"
   }
  }
 },
 "nbformat": 4,
 "nbformat_minor": 2
}
