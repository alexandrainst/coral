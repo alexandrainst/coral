{
 "cells": [
  {
   "cell_type": "code",
   "execution_count": null,
   "id": "0",
   "metadata": {
    "jupyter": {
     "source_hidden": true
    }
   },
   "outputs": [],
   "source": [
    "# Install dependencies\n",
    "\n",
    "%pip install matplotlib"
   ]
  },
  {
   "cell_type": "code",
   "execution_count": null,
   "id": "1",
   "metadata": {},
   "outputs": [],
   "source": [
    "from time import sleep\n",
    "\n",
    "import matplotlib.pyplot as plt\n",
    "from datasets import DatasetDict, load_dataset\n",
    "from IPython.display import Audio as IPythonAudio\n",
    "from tqdm.auto import tqdm\n",
    "\n",
    "\n",
    "def play_sample(sample: dict):\n",
    "    \"\"\"Play the audio of a sample.\"\"\"\n",
    "    audio = sample[\"audio\"][\"array\"]\n",
    "    display(IPythonAudio(audio, rate=sample[\"audio\"][\"sampling_rate\"]))\n",
    "\n",
    "\n",
    "plt.style.use(\"ggplot\")"
   ]
  },
  {
   "cell_type": "code",
   "execution_count": null,
   "id": "2",
   "metadata": {},
   "outputs": [],
   "source": [
    "# If you disable internet connection, then it will download the cached version locally (which doesn't exist on the Hub)\n",
    "while True:\n",
    "    try:\n",
    "        coral = load_dataset(\"alexandrainst/coral\", name=\"read_aloud\", split=\"train\")\n",
    "        break\n",
    "    except Exception as e:\n",
    "        print(f\"Encountered error: {str(e)}. Retrying...\")\n",
    "        continue"
   ]
  },
  {
   "cell_type": "code",
   "execution_count": null,
   "id": "3",
   "metadata": {},
   "outputs": [],
   "source": [
    "# Look at a sample\n",
    "\n",
    "coral[0]"
   ]
  },
  {
   "cell_type": "code",
   "execution_count": null,
   "id": "4",
   "metadata": {},
   "outputs": [],
   "source": [
    "# Play some samples with the worst CER\n",
    "\n",
    "worst_samples = coral.sort(\"asr_cer\", reverse=True).select(range(100))\n",
    "for sample in worst_samples:\n",
    "    print(f\"CER: {sample['asr_cer']:.0%}\")\n",
    "    print(f\"Text: {sample['text']!r}\")\n",
    "    play_sample(sample)\n",
    "    print()"
   ]
  },
  {
   "cell_type": "code",
   "execution_count": null,
   "id": "5",
   "metadata": {},
   "outputs": [],
   "source": [
    "TEST_SET_SPEAKER_IDS: list[str] = [\n",
    "    \"spe_f52921e1e787609ab99623340c5dd212\",\n",
    "    \"spe_cdb17db7c331cbb89e40dcbbecf4d560\",\n",
    "    \"spe_e3742811d83011e22ec2ef5a7af32065\",\n",
    "    \"spe_42de8f7200a57e1d28ae5b415ba5b934\",\n",
    "    \"spe_d84ebbfd3b0a3fbc12df4f960fe44ae3\",\n",
    "    \"spe_199e03b334b15576a69be73ea39a34d5\",\n",
    "    \"spe_0f8c666aaf602dfc580d99254e37ac77\",\n",
    "    \"spe_e33e46611f54ae91ed7b235c11ef2628\",\n",
    "    \"spe_37a526e88c934c7966038d34af9debf0\",\n",
    "    \"spe_07c0276e66e920209cf22266b24fa5e4\",\n",
    "    \"spe_9b8d26599c6b7932dbac00832b73dcf8\",\n",
    "    \"spe_6a029298b9eaa3d7e7f8f74510f88e70\",\n",
    "    \"spe_7b8398c898a828791c0fc40d6d146b3f\",\n",
    "    \"spe_5e319f90767d47e11731d95e314e4670\",\n",
    "    \"spe_4b7ba1403d8540b3101c07b9c8a19474\",\n",
    "    \"spe_436e439616edf662c232486b3face2f1\",\n",
    "    \"spe_647d4e905427d45ab699abe73d80ef1d\",\n",
    "    \"spe_51b02c4d372de72ba1cab851642ab363\",\n",
    "    \"spe_50cddf66f739637c1b3c534938649b8e\",\n",
    "    \"spe_6e7cb65603907f863e06d7a02e00fb67\",\n",
    "    \"spe_f1d26280a22ad55b85083b19d61f243a\",\n",
    "    \"spe_9f92cb4d6feb94dab9c691811656e33e\",\n",
    "    \"spe_55028d05581a88a8655fa1f74ddfb5a1\",\n",
    "]\n",
    "VALIDATION_SET_SPEAKER_IDS: list[str] = [\n",
    "    \"spe_9c4dc6be57f6c63860331813a71417e5\",\n",
    "    \"spe_4a7e760bd0a2775337880155e8ac0ec2\",\n",
    "    \"spe_03e8b9d0ee8d3192e113ff62c61e4916\",\n",
    "    \"spe_92fea6e4419210f4c4219e84ec89837e\",\n",
    "    \"spe_b977ebc0a2ba961cbe158190fce0dc06\",\n",
    "    \"spe_4aa23a60464a18e3597cdeb3606ac572\",\n",
    "    \"spe_20b91d51f72ee56930ca778cb16c29da\",\n",
    "    \"spe_fbf3381f525dbe5ddf1a2a1d36e9c4b9\",\n",
    "    \"spe_4d03787c2092b6bee053e75e2cfa4aa3\",\n",
    "    \"spe_877ac9c88e53b43ebfe464da79aa6da3\",\n",
    "    \"spe_ffc1068fc082deac40144691e1ae754c\",\n",
    "]"
   ]
  },
  {
   "cell_type": "code",
   "execution_count": null,
   "id": "6",
   "metadata": {},
   "outputs": [],
   "source": [
    "coral = coral.remove_columns(\n",
    "    column_names=[\n",
    "        \"id_validator\",\n",
    "        \"datetime_start\",\n",
    "        \"datetime_end\",\n",
    "        \"language_native\",\n",
    "        \"language_spoken\",\n",
    "        \"zipcode_birth\",\n",
    "        \"zip_school\",\n",
    "        \"education\",\n",
    "        \"occupation\",\n",
    "        \"asr_label\",\n",
    "    ]\n",
    ")\n",
    "coral"
   ]
  },
  {
   "cell_type": "code",
   "execution_count": null,
   "id": "7",
   "metadata": {},
   "outputs": [],
   "source": [
    "test = coral.filter(\n",
    "    lambda sample: sample[\"id_speaker\"] in TEST_SET_SPEAKER_IDS\n",
    "    and sample[\"asr_cer\"] < 0.6\n",
    "    and sample[\"validated\"] != \"rejected\"\n",
    "    and sample[\"validated\"] != \"maybe\",\n",
    "    num_proc=8,\n",
    ")\n",
    "val = coral.filter(\n",
    "    lambda sample: sample[\"id_speaker\"] in VALIDATION_SET_SPEAKER_IDS\n",
    "    and sample[\"asr_cer\"] < 0.6\n",
    "    and sample[\"validated\"] != \"rejected\"\n",
    "    and sample[\"validated\"] != \"maybe\",\n",
    "    num_proc=8,\n",
    ")\n",
    "train = coral.filter(\n",
    "    lambda sample: sample[\"id_speaker\"]\n",
    "    not in TEST_SET_SPEAKER_IDS + VALIDATION_SET_SPEAKER_IDS\n",
    "    and sample[\"asr_cer\"] < 0.6\n",
    "    and sample[\"validated\"] != \"rejected\",\n",
    "    num_proc=8,\n",
    ")"
   ]
  },
  {
   "cell_type": "code",
   "execution_count": null,
   "id": "8",
   "metadata": {},
   "outputs": [],
   "source": [
    "test_hours = sum(\n",
    "    sample[\"audio\"][\"array\"].shape[0] / sample[\"audio\"][\"sampling_rate\"] / 60 / 60\n",
    "    for sample in tqdm(test)\n",
    ")\n",
    "val_hours = sum(\n",
    "    sample[\"audio\"][\"array\"].shape[0] / sample[\"audio\"][\"sampling_rate\"] / 60 / 60\n",
    "    for sample in tqdm(val)\n",
    ")\n",
    "train_hours = sum(\n",
    "    sample[\"audio\"][\"array\"].shape[0] / sample[\"audio\"][\"sampling_rate\"] / 60 / 60\n",
    "    for sample in tqdm(train)\n",
    ")\n",
    "print(f\"Test hours: {test_hours:.2f}\")\n",
    "print(f\"Val hours: {val_hours:.2f}\")\n",
    "print(f\"Train hours: {train_hours:.2f}\")"
   ]
  },
  {
   "cell_type": "code",
   "execution_count": null,
   "id": "9",
   "metadata": {},
   "outputs": [],
   "source": [
    "new_coral = DatasetDict(dict(train=train, val=val, test=test))\n",
    "new_coral"
   ]
  },
  {
   "cell_type": "code",
   "execution_count": null,
   "id": "10",
   "metadata": {},
   "outputs": [],
   "source": [
    "while True:\n",
    "    try:\n",
    "        new_coral.push_to_hub(\n",
    "            \"alexandrainst/coral\",\n",
    "            \"read_aloud\",\n",
    "            commit_message=\"Update test/val tests to have better dialectal representation\",\n",
    "        )\n",
    "        break\n",
    "    except Exception as e:\n",
    "        print(f\"Failed to push to hub ({str(e)}) - retrying...\")\n",
    "        sleep(10)\n",
    "new_coral"
   ]
  }
 ],
 "metadata": {
  "kernelspec": {
   "display_name": "Python 3 (ipykernel)",
   "language": "python",
   "name": "python3"
  },
  "language_info": {
   "codemirror_mode": {
    "name": "ipython",
    "version": 3
   },
   "file_extension": ".py",
   "mimetype": "text/x-python",
   "name": "python",
   "nbconvert_exporter": "python",
   "pygments_lexer": "ipython3",
   "version": "3.11.9"
  }
 },
 "nbformat": 4,
 "nbformat_minor": 5
}
