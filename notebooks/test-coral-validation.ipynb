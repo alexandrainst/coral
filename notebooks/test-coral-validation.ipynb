{
 "cells": [
  {
   "cell_type": "code",
   "execution_count": null,
   "id": "0",
   "metadata": {},
   "outputs": [],
   "source": [
    "import matplotlib.pyplot as plt\n",
    "from datasets import Audio, DatasetDict, load_dataset\n",
    "from IPython.display import Audio as IPythonAudio\n",
    "from tqdm.auto import tqdm\n",
    "\n",
    "\n",
    "def play_sample(sample: dict):\n",
    "    \"\"\"Play the audio of a sample.\"\"\"\n",
    "    audio = sample[\"audio\"][\"array\"]\n",
    "    display(IPythonAudio(audio, rate=16_000))\n",
    "\n",
    "\n",
    "plt.style.use(\"ggplot\")"
   ]
  },
  {
   "cell_type": "code",
   "execution_count": null,
   "id": "1",
   "metadata": {},
   "outputs": [],
   "source": [
    "while True:\n",
    "    try:\n",
    "        coral = load_dataset(\"alexandrainst/coral\", name=\"read_aloud\", split=\"train\")\n",
    "        break\n",
    "    except Exception as e:\n",
    "        print(f\"Encountered error: {str(e)}. Retrying...\")\n",
    "        continue\n",
    "coral_16k = coral.cast_column(\"audio\", Audio(sampling_rate=16_000))"
   ]
  },
  {
   "cell_type": "code",
   "execution_count": null,
   "id": "2",
   "metadata": {},
   "outputs": [],
   "source": [
    "# Look at a sample\n",
    "\n",
    "coral[0]"
   ]
  },
  {
   "cell_type": "code",
   "execution_count": null,
   "id": "3",
   "metadata": {},
   "outputs": [],
   "source": [
    "# Plot the WER distribution of approved vs non-approved samples\n",
    "\n",
    "approved_samples = coral.filter(lambda example: example[\"validated\"] == \"approved\")\n",
    "rejected_samples = coral.filter(lambda example: example[\"validated\"] == \"rejected\")\n",
    "\n",
    "plt.hist(\n",
    "    approved_samples[\"asr_wer\"], bins=50, label=\"approved\", alpha=0.5, density=True\n",
    ")\n",
    "plt.hist(\n",
    "    rejected_samples[\"asr_wer\"], bins=50, label=\"rejected\", alpha=0.5, density=True\n",
    ")\n",
    "plt.xlim(0, 1)\n",
    "plt.legend()\n",
    "plt.savefig(\"wer-distribution-approved-rejected.png\", dpi=200)\n",
    "plt.show()"
   ]
  },
  {
   "cell_type": "code",
   "execution_count": null,
   "id": "4",
   "metadata": {},
   "outputs": [],
   "source": [
    "# Play some samples with the worst WER\n",
    "\n",
    "worst_samples = coral.sort(\"asr_wer\", reverse=True).select(range(100))\n",
    "for sample in worst_samples:\n",
    "    print(f\"WER: {sample['asr_wer']:.0%}\")\n",
    "    print(f\"Text: {sample['text']!r}\")\n",
    "    play_sample(sample)\n",
    "    print()"
   ]
  },
  {
   "cell_type": "code",
   "execution_count": null,
   "id": "5",
   "metadata": {},
   "outputs": [],
   "source": [
    "TEST_SET_SPEAKER_IDS: list[str] = [\n",
    "    \"spe_c3c1fdae39d6bf6e462868f8f52b7e3e\",\n",
    "    \"spe_d7da3d62a1a9885c1cb3280668437759\",\n",
    "    \"spe_ce5c35bd408b296511ce0b05ecc33de1\",\n",
    "    \"spe_e3013f96eed48bacc13dd8253609cf9b\",\n",
    "    \"spe_4facb80c94341b25425ec1d8962b1f8d\",\n",
    "    \"spe_20b91d51f72ee56930ca778cb16c29da\",\n",
    "    \"spe_e33e46611f54ae91ed7b235c11ef2628\",\n",
    "    \"spe_6b93da4530e853772df0fc8b2337142c\",\n",
    "    \"spe_6617b4c7273b31fc161fc6e07e620743\",\n",
    "    \"spe_1c32c35e35670f64d9e1a673c47aabd1\",\n",
    "    \"spe_590765d7656376e83a33c54f9c2e3976\",\n",
    "    \"spe_066938532ac270d527696f89d81f0de4\",\n",
    "    \"spe_545558c5701d956a2c63057cd313ff50\",\n",
    "    \"spe_af4e767c077909a95b9bd834ca224833\",\n",
    "    \"spe_4b7ba1403d8540b3101c07b9c8a19474\",\n",
    "    \"spe_e3742811d83011e22ec2ef5a7af32065\",\n",
    "    \"spe_fbf3381f525dbe5ddf1a2a1d36e9c4b9\",\n",
    "    \"spe_ef7f083c2097793e28388535a81e14ea\",\n",
    "    \"spe_b9112f9327f2390093bbc082a1651bad\",\n",
    "    \"spe_b788006083ced2efabc75a7907220250\",\n",
    "    \"spe_6e7cb65603907f863e06d7a02e00fb67\",\n",
    "    \"spe_003c825c9ad2f1496c22cc16a04b1598\",\n",
    "    \"spe_935a99ce745c2c042a77f6e4c831fd94\",\n",
    "    \"spe_55028d05581a88a8655fa1f74ddfb5a1\",\n",
    "    \"spe_6efa16af1112af15ab482171e156d3f3\",\n",
    "    \"spe_01fc2b156c7fe429f1b72bd3be5ad3c3\",\n",
    "    \"spe_b19c9900784bdf8f8ef3ea3e78002011\",\n",
    "    \"spe_02d28146c013111766f18f0d2198785e\",\n",
    "    \"spe_3937cb6805e15326b37253d6148babb5\",\n",
    "    \"spe_492647a87720047b55f4033d0df8082a\",\n",
    "    \"spe_9b8d26599c6b7932dbac00832b73dcf8\",\n",
    "    \"spe_6a029298b9eaa3d7e7f8f74510f88e70\",\n",
    "]\n",
    "VALIDATION_SET_SPEAKER_IDS: list[str] = [\n",
    "    \"spe_a8ffed9a90c0e89338892f23dfaac338\",\n",
    "    \"spe_50d0664744aa2a241c084363b04e39c5\",\n",
    "    \"spe_003971defa823a2eb98f079cdc91c634\",\n",
    "    \"spe_0dd042aee46edc27b2ba0155abdf3d54\",\n",
    "    \"spe_cd5174de19523f69dd8613ea311997d4\",\n",
    "    \"spe_0cf8566481d05e4ed329e34211a36311\",\n",
    "    \"spe_4aa23a60464a18e3597cdeb3606ac572\",\n",
    "    \"spe_647d4e905427d45ab699abe73d80ef1d\",\n",
    "    \"spe_bb1d0e9d3f2bca18658975b3073924cb\",\n",
    "    \"spe_93f1d99433d997beeec289d60e074ed2\",\n",
    "    \"spe_9c4dc6be57f6c63860331813a71417e5\",\n",
    "]"
   ]
  },
  {
   "cell_type": "code",
   "execution_count": null,
   "id": "6",
   "metadata": {},
   "outputs": [],
   "source": [
    "test = coral.filter(\n",
    "    lambda sample: sample[\"id_speaker\"] in TEST_SET_SPEAKER_IDS\n",
    "    and sample[\"asr_wer\"] < 0.4\n",
    "    and sample[\"validated\"] != \"rejected\"\n",
    "    and sample[\"validated\"] != \"maybe\",\n",
    "    num_proc=8,\n",
    ")\n",
    "val = coral.filter(\n",
    "    lambda sample: sample[\"id_speaker\"] in VALIDATION_SET_SPEAKER_IDS\n",
    "    and sample[\"asr_wer\"] < 0.4\n",
    "    and sample[\"validated\"] != \"rejected\"\n",
    "    and sample[\"validated\"] != \"maybe\",\n",
    "    num_proc=8,\n",
    ")\n",
    "train = coral.filter(\n",
    "    lambda sample: sample[\"id_speaker\"]\n",
    "    not in TEST_SET_SPEAKER_IDS + VALIDATION_SET_SPEAKER_IDS\n",
    "    and sample[\"asr_wer\"] < 1.0\n",
    "    and sample[\"validated\"] != \"rejected\",\n",
    "    num_proc=8,\n",
    ")"
   ]
  },
  {
   "cell_type": "code",
   "execution_count": null,
   "id": "7",
   "metadata": {},
   "outputs": [],
   "source": [
    "test_hours = sum(\n",
    "    sample[\"audio\"][\"array\"].shape[0] / 48_000 / 60 / 60 for sample in tqdm(test)\n",
    ")\n",
    "val_hours = sum(\n",
    "    sample[\"audio\"][\"array\"].shape[0] / 48_000 / 60 / 60 for sample in tqdm(val)\n",
    ")\n",
    "train_hours = sum(\n",
    "    sample[\"audio\"][\"array\"].shape[0] / 48_000 / 60 / 60 for sample in tqdm(train)\n",
    ")\n",
    "print(f\"Test hours: {test_hours:.2f}\")\n",
    "print(f\"Val hours: {val_hours:.2f}\")\n",
    "print(f\"Train hours: {train_hours:.2f}\")"
   ]
  },
  {
   "cell_type": "code",
   "execution_count": null,
   "id": "8",
   "metadata": {},
   "outputs": [],
   "source": [
    "new_coral = DatasetDict(dict(train=train, val=val, test=test))\n",
    "new_coral"
   ]
  },
  {
   "cell_type": "code",
   "execution_count": null,
   "id": "9",
   "metadata": {},
   "outputs": [],
   "source": [
    "new_coral.push_to_hub(\"alexandrainst/coral\", \"read_aloud\", private=True)"
   ]
  }
 ],
 "metadata": {
  "kernelspec": {
   "display_name": "Python 3 (ipykernel)",
   "language": "python",
   "name": "python3"
  },
  "language_info": {
   "codemirror_mode": {
    "name": "ipython",
    "version": 3
   },
   "file_extension": ".py",
   "mimetype": "text/x-python",
   "name": "python",
   "nbconvert_exporter": "python",
   "pygments_lexer": "ipython3",
   "version": "3.11.9"
  }
 },
 "nbformat": 4,
 "nbformat_minor": 5
}
