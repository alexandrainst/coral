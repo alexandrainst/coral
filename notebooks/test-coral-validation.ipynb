{
 "cells": [
  {
   "cell_type": "code",
   "execution_count": null,
   "id": "0",
   "metadata": {},
   "outputs": [],
   "source": [
    "import matplotlib.pyplot as plt\n",
    "from datasets import Audio, load_dataset\n",
    "from IPython.display import Audio as IPythonAudio\n",
    "\n",
    "\n",
    "def play_sample(sample: dict):\n",
    "    \"\"\"Play the audio of a sample.\"\"\"\n",
    "    audio = sample[\"audio\"][\"array\"]\n",
    "    display(IPythonAudio(audio, rate=16_000))\n",
    "\n",
    "\n",
    "plt.style.use(\"ggplot\")"
   ]
  },
  {
   "cell_type": "code",
   "execution_count": null,
   "id": "1",
   "metadata": {},
   "outputs": [],
   "source": [
    "while True:\n",
    "    try:\n",
    "        coral = load_dataset(\"alexandrainst/coral\", name=\"read_aloud\", split=\"train\")\n",
    "        break\n",
    "    except Exception as e:\n",
    "        print(f\"Encountered error: {str(e)}. Retrying...\")\n",
    "        continue\n",
    "coral = coral.cast_column(\"audio\", Audio(sampling_rate=16_000))"
   ]
  },
  {
   "cell_type": "code",
   "execution_count": null,
   "id": "2",
   "metadata": {},
   "outputs": [],
   "source": [
    "# Look at a sample\n",
    "\n",
    "coral[0]"
   ]
  },
  {
   "cell_type": "code",
   "execution_count": null,
   "id": "3",
   "metadata": {},
   "outputs": [],
   "source": [
    "# Plot the WER distribution of approved vs non-approved samples\n",
    "\n",
    "approved_samples = coral.filter(lambda example: example[\"validated\"] == \"approved\")\n",
    "rejected_samples = coral.filter(lambda example: example[\"validated\"] == \"rejected\")\n",
    "\n",
    "plt.hist(\n",
    "    approved_samples[\"asr_wer\"], bins=50, label=\"approved\", alpha=0.5, density=True\n",
    ")\n",
    "plt.hist(\n",
    "    rejected_samples[\"asr_wer\"], bins=50, label=\"rejected\", alpha=0.5, density=True\n",
    ")\n",
    "plt.xlim(0, 1)\n",
    "plt.legend()\n",
    "plt.savefig(\"wer-distribution-approved-rejected.png\", dpi=200)\n",
    "plt.show()"
   ]
  },
  {
   "cell_type": "code",
   "execution_count": null,
   "id": "4",
   "metadata": {
    "jupyter": {
     "outputs_hidden": true
    }
   },
   "outputs": [],
   "source": [
    "# Play some samples with the worst WER\n",
    "\n",
    "worst_samples = coral.sort(\"asr_wer\", reverse=True).select(range(100))\n",
    "for sample in worst_samples:\n",
    "    print(f\"WER: {sample['asr_wer']:.0%}\")\n",
    "    print(f\"Text: {sample['text']!r}\")\n",
    "    play_sample(sample)\n",
    "    print()"
   ]
  }
 ],
 "metadata": {
  "kernelspec": {
   "display_name": "Python 3 (ipykernel)",
   "language": "python",
   "name": "python3"
  },
  "language_info": {
   "codemirror_mode": {
    "name": "ipython",
    "version": 3
   },
   "file_extension": ".py",
   "mimetype": "text/x-python",
   "name": "python",
   "nbconvert_exporter": "python",
   "pygments_lexer": "ipython3",
   "version": "3.11.9"
  }
 },
 "nbformat": 4,
 "nbformat_minor": 5
}
