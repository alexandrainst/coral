{
 "cells": [
  {
   "cell_type": "code",
   "execution_count": null,
   "id": "0",
   "metadata": {
    "jupyter": {
     "source_hidden": true
    }
   },
   "outputs": [],
   "source": [
    "# Install dependencies\n",
    "\n",
    "%pip install matplotlib"
   ]
  },
  {
   "cell_type": "code",
   "execution_count": null,
   "id": "1",
   "metadata": {},
   "outputs": [],
   "source": [
    "from time import sleep\n",
    "\n",
    "import matplotlib.pyplot as plt\n",
    "from datasets import DatasetDict, load_dataset\n",
    "from IPython.display import Audio as IPythonAudio\n",
    "from tqdm.auto import tqdm\n",
    "\n",
    "\n",
    "def play_sample(sample: dict):\n",
    "    \"\"\"Play the audio of a sample.\"\"\"\n",
    "    audio = sample[\"audio\"][\"array\"]\n",
    "    display(IPythonAudio(audio, rate=sample[\"audio\"][\"sampling_rate\"]))\n",
    "\n",
    "\n",
    "plt.style.use(\"ggplot\")"
   ]
  },
  {
   "cell_type": "code",
   "execution_count": null,
   "id": "2",
   "metadata": {},
   "outputs": [],
   "source": [
    "# If you disable internet connection, then it will download the cached version locally (which doesn't exist on the Hub)\n",
    "while True:\n",
    "    try:\n",
    "        coral = load_dataset(\"alexandrainst/coral\", name=\"read_aloud\", split=\"train\")\n",
    "        break\n",
    "    except Exception as e:\n",
    "        print(f\"Encountered error: {str(e)}. Retrying...\")\n",
    "        continue"
   ]
  },
  {
   "cell_type": "code",
   "execution_count": null,
   "id": "3",
   "metadata": {},
   "outputs": [],
   "source": [
    "# Look at a sample\n",
    "\n",
    "coral[0]"
   ]
  },
  {
   "cell_type": "code",
   "execution_count": null,
   "id": "4",
   "metadata": {},
   "outputs": [],
   "source": [
    "# Play some samples with the worst CER\n",
    "\n",
    "worst_samples = coral.sort(\"asr_cer\", reverse=True).select(range(100))\n",
    "for sample in worst_samples:\n",
    "    print(f\"CER: {sample['asr_cer']:.0%}\")\n",
    "    print(f\"Text: {sample['text']!r}\")\n",
    "    play_sample(sample)\n",
    "    print()"
   ]
  },
  {
   "cell_type": "code",
   "execution_count": null,
   "id": "5",
   "metadata": {},
   "outputs": [],
   "source": [
    "TEST_SET_SPEAKER_IDS: list[str] = [\n",
    "    \"spe_6e7cb65603907f863e06d7a02e00fb67\",\n",
    "    \"spe_55028d05581a88a8655fa1f74ddfb5a1\",\n",
    "    \"spe_c883de44acfc7d9cfd32d5c9fa162342\",\n",
    "    \"spe_3a85fdec89b8deb698bba43485b54fd2\",\n",
    "    \"spe_e530efaab83b53fb59942e984b57e5cb\",\n",
    "    \"spe_a3d4edeab8ea4c9bb67e847103c4b5f7\",\n",
    "    \"spe_01fc2b156c7fe429f1b72bd3be5ad3c3\",\n",
    "    \"spe_4aa23a60464a18e3597cdeb3606ac572\",\n",
    "    \"spe_19b1d393bbe3ad9db3457ccda9bda5ea\",\n",
    "    \"spe_aaa7d1aa7c5e1df17aa33156b8b54677\",\n",
    "    \"spe_ae8bb53db7e325a8ecbb3238f4578d38\",\n",
    "    \"spe_915ba6768904307f02be61ac0afe6366\",\n",
    "    \"spe_63f165c8164332ea0791ffe410b40f0b\",\n",
    "    \"spe_10b8eb8c3ba5fd8405d1516b7b12f2de\",\n",
    "    \"spe_18c97571c93826474f71a51f48c2debd\",\n",
    "    \"spe_9a2fee70cd58727ea1dbcf056de688b7\",\n",
    "    \"spe_0a531653d15a79f97c28519ee3d024a0\",\n",
    "    \"spe_8baebafddb83768cc4abe225511c5e0d\",\n",
    "    \"spe_d147969fc79b1ba50c56e5adb9f662af\",\n",
    "    \"spe_c1ae98ac0db97166130c016e5a91000b\",\n",
    "    \"spe_4facb80c94341b25425ec1d8962b1f8d\",\n",
    "    \"spe_6a029298b9eaa3d7e7f8f74510f88e70\",\n",
    "]\n",
    "VALIDATION_SET_SPEAKER_IDS: list[str] = [\n",
    "    \"spe_b977ebc0a2ba961cbe158190fce0dc06\",\n",
    "    \"spe_33b9071834e38bd3a2829add3bbcccb3\",\n",
    "    \"spe_4c0f1933310dc0958cedf35fcc92fdc5\",\n",
    "    \"spe_abad80046cdb930d9e11c61018000313\",\n",
    "    \"spe_9c4dc6be57f6c63860331813a71417e5\",\n",
    "    \"spe_51b02c4d372de72ba1cab851642ab363\",\n",
    "    \"spe_6e67cbe51a49d9e4abbd7699a4a89d91\",\n",
    "    \"spe_bb1d0e9d3f2bca18658975b3073924cb\",\n",
    "    \"spe_65c05e58f399d854594d4716454a806b\",\n",
    "    \"spe_1aec105b85238c5ebbc4bfc72d0569e1\",\n",
    "]"
   ]
  },
  {
   "cell_type": "code",
   "execution_count": null,
   "id": "6",
   "metadata": {},
   "outputs": [],
   "source": [
    "coral = coral.remove_columns(\n",
    "    column_names=[\n",
    "        \"id_validator\",\n",
    "        \"datetime_start\",\n",
    "        \"datetime_end\",\n",
    "        \"language_native\",\n",
    "        \"language_spoken\",\n",
    "        \"zipcode_birth\",\n",
    "        \"zip_school\",\n",
    "        \"education\",\n",
    "        \"occupation\",\n",
    "        \"asr_label\",\n",
    "    ]\n",
    ")\n",
    "coral"
   ]
  },
  {
   "cell_type": "code",
   "execution_count": null,
   "id": "7",
   "metadata": {},
   "outputs": [],
   "source": [
    "test = coral.filter(\n",
    "    lambda sample: sample[\"id_speaker\"] in TEST_SET_SPEAKER_IDS\n",
    "    and sample[\"asr_cer\"] < 0.6\n",
    "    and sample[\"validated\"] != \"rejected\"\n",
    "    and sample[\"validated\"] != \"maybe\",\n",
    "    num_proc=8,\n",
    ")\n",
    "val = coral.filter(\n",
    "    lambda sample: sample[\"id_speaker\"] in VALIDATION_SET_SPEAKER_IDS\n",
    "    and sample[\"asr_cer\"] < 0.6\n",
    "    and sample[\"validated\"] != \"rejected\"\n",
    "    and sample[\"validated\"] != \"maybe\",\n",
    "    num_proc=8,\n",
    ")\n",
    "train = coral.filter(\n",
    "    lambda sample: sample[\"id_speaker\"]\n",
    "    not in TEST_SET_SPEAKER_IDS + VALIDATION_SET_SPEAKER_IDS\n",
    "    and sample[\"asr_cer\"] < 0.6\n",
    "    and sample[\"validated\"] != \"rejected\",\n",
    "    num_proc=8,\n",
    ")"
   ]
  },
  {
   "cell_type": "code",
   "execution_count": null,
   "id": "8",
   "metadata": {},
   "outputs": [],
   "source": [
    "test_hours = sum(\n",
    "    sample[\"audio\"][\"array\"].shape[0] / sample[\"audio\"][\"sampling_rate\"] / 60 / 60\n",
    "    for sample in tqdm(test)\n",
    ")\n",
    "val_hours = sum(\n",
    "    sample[\"audio\"][\"array\"].shape[0] / sample[\"audio\"][\"sampling_rate\"] / 60 / 60\n",
    "    for sample in tqdm(val)\n",
    ")\n",
    "train_hours = sum(\n",
    "    sample[\"audio\"][\"array\"].shape[0] / sample[\"audio\"][\"sampling_rate\"] / 60 / 60\n",
    "    for sample in tqdm(train)\n",
    ")\n",
    "print(f\"Test hours: {test_hours:.2f}\")\n",
    "print(f\"Val hours: {val_hours:.2f}\")\n",
    "print(f\"Train hours: {train_hours:.2f}\")"
   ]
  },
  {
   "cell_type": "code",
   "execution_count": null,
   "id": "9",
   "metadata": {},
   "outputs": [],
   "source": [
    "new_coral = DatasetDict(dict(train=train, val=val, test=test))\n",
    "new_coral"
   ]
  },
  {
   "cell_type": "code",
   "execution_count": null,
   "id": "10",
   "metadata": {},
   "outputs": [],
   "source": [
    "while True:\n",
    "    try:\n",
    "        new_coral.push_to_hub(\"alexandrainst/coral\", \"read_aloud\")\n",
    "        break\n",
    "    except Exception:\n",
    "        print(\"Failed to push to hub - retrying...\")\n",
    "        sleep(10)\n",
    "new_coral"
   ]
  }
 ],
 "metadata": {
  "kernelspec": {
   "display_name": "Python 3 (ipykernel)",
   "language": "python",
   "name": "python3"
  },
  "language_info": {
   "codemirror_mode": {
    "name": "ipython",
    "version": 3
   },
   "file_extension": ".py",
   "mimetype": "text/x-python",
   "name": "python",
   "nbconvert_exporter": "python",
   "pygments_lexer": "ipython3",
   "version": "3.11.9"
  }
 },
 "nbformat": 4,
 "nbformat_minor": 5
}
