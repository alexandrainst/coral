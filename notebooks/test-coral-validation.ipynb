{
 "cells": [
  {
   "cell_type": "code",
   "execution_count": null,
   "id": "0",
   "metadata": {
    "jupyter": {
     "outputs_hidden": true,
     "source_hidden": true
    }
   },
   "outputs": [],
   "source": [
    "# Install dependencies\n",
    "\n",
    "%pip install matplotlib"
   ]
  },
  {
   "cell_type": "code",
   "execution_count": null,
   "id": "1",
   "metadata": {},
   "outputs": [],
   "source": [
    "import matplotlib.pyplot as plt\n",
    "from datasets import DatasetDict, load_dataset\n",
    "from IPython.display import Audio as IPythonAudio\n",
    "from tqdm.auto import tqdm\n",
    "\n",
    "\n",
    "def play_sample(sample: dict):\n",
    "    \"\"\"Play the audio of a sample.\"\"\"\n",
    "    audio = sample[\"audio\"][\"array\"]\n",
    "    display(IPythonAudio(audio, rate=sample[\"audio\"][\"sampling_rate\"]))\n",
    "\n",
    "\n",
    "plt.style.use(\"ggplot\")"
   ]
  },
  {
   "cell_type": "code",
   "execution_count": null,
   "id": "2",
   "metadata": {},
   "outputs": [],
   "source": [
    "while True:\n",
    "    try:\n",
    "        coral = load_dataset(\"alexandrainst/coral\", name=\"read_aloud\", split=\"train\")\n",
    "        break\n",
    "    except Exception as e:\n",
    "        print(f\"Encountered error: {str(e)}. Retrying...\")\n",
    "        continue"
   ]
  },
  {
   "cell_type": "code",
   "execution_count": null,
   "id": "3",
   "metadata": {},
   "outputs": [],
   "source": [
    "# Look at a sample\n",
    "\n",
    "coral[0]"
   ]
  },
  {
   "cell_type": "code",
   "execution_count": null,
   "id": "4",
   "metadata": {},
   "outputs": [],
   "source": [
    "# Play some samples with the worst CER\n",
    "\n",
    "worst_samples = coral.sort(\"asr_cer\", reverse=True).select(range(100))\n",
    "for sample in worst_samples:\n",
    "    print(f\"CER: {sample['asr_cer']:.0%}\")\n",
    "    print(f\"Text: {sample['text']!r}\")\n",
    "    play_sample(sample)\n",
    "    print()"
   ]
  },
  {
   "cell_type": "code",
   "execution_count": null,
   "id": "5",
   "metadata": {},
   "outputs": [],
   "source": [
    "TEST_SET_SPEAKER_IDS: list[str] = [\n",
    "    \"spe_ac145f72d3d37064bfe62d11c58a3cb4\",\n",
    "    \"spe_e01017cbabe39aa19980d30b022947dc\",\n",
    "    \"spe_046c02b65af055859e0f0a1885b2cc5c\",\n",
    "    \"spe_6691832f1f170d2876ec2d99de3d0b8f\",\n",
    "    \"spe_bffe31a07537d14e22eef5c5efcd4fe6\",\n",
    "    \"spe_e2cfb324371dd8ce3a1038a27eb6fb5b\",\n",
    "    \"spe_b440df30591b8175bafbc7a036c538c7\",\n",
    "    \"spe_2937b289da4c0a7b9877c56ecead4794\",\n",
    "    \"spe_168bc05c7a02a8360343eb5fadbba7ed\",\n",
    "    \"spe_c82a8417dd9f495eb70c34235647a1b7\",\n",
    "    \"spe_fbf3381f525dbe5ddf1a2a1d36e9c4b9\",\n",
    "    \"spe_8948a0cc310c6fa8161665d4eda79846\",\n",
    "    \"spe_b977ebc0a2ba961cbe158190fce0dc06\",\n",
    "    \"spe_6617b4c7273b31fc161fc6e07e620743\",\n",
    "    \"spe_4aa23a60464a18e3597cdeb3606ac572\",\n",
    "    \"spe_6e7cb65603907f863e06d7a02e00fb67\",\n",
    "    \"spe_e08ab8fdf0306e3f0478577b4c5805bc\",\n",
    "    \"spe_10b8eb8c3ba5fd8405d1516b7b12f2de\",\n",
    "    \"spe_953ed42510a8dd0b33d909d580875241\",\n",
    "    \"spe_3a85fdec89b8deb698bba43485b54fd2\",\n",
    "    \"spe_4dee2dc8f6fccc98115781683d45acdd\",\n",
    "]\n",
    "VALIDATION_SET_SPEAKER_IDS: list[str] = [\n",
    "    \"spe_92fea6e4419210f4c4219e84ec89837e\",\n",
    "    \"spe_9c4dc6be57f6c63860331813a71417e5\",\n",
    "    \"spe_0dd042aee46edc27b2ba0155abdf3d54\",\n",
    "    \"spe_f3a0b2f9a75fcfc793a3109d8fbd6c94\",\n",
    "    \"spe_9cc1a2ef1b284863ffe37ed105257843\",\n",
    "    \"spe_55028d05581a88a8655fa1f74ddfb5a1\",\n",
    "    \"spe_a75a8f0e82dc860942b4cb3129f0af35\",\n",
    "    \"spe_9b0f671d81679eac001b2d95729c4dc3\",\n",
    "    \"spe_6a029298b9eaa3d7e7f8f74510f88e70\",\n",
    "    \"spe_eee793fd109985a678edaba7134f0f3f\",\n",
    "]"
   ]
  },
  {
   "cell_type": "code",
   "execution_count": null,
   "id": "6",
   "metadata": {},
   "outputs": [],
   "source": [
    "coral = coral.remove_columns(\n",
    "    column_names=[\n",
    "        \"id_validator\",\n",
    "        \"datetime_start\",\n",
    "        \"datetime_end\",\n",
    "        \"language_native\",\n",
    "        \"language_spoken\",\n",
    "        \"zipcode_birth\",\n",
    "        \"zip_school\",\n",
    "        \"education\",\n",
    "        \"occupation\",\n",
    "        \"asr_label\",\n",
    "    ]\n",
    ")\n",
    "coral"
   ]
  },
  {
   "cell_type": "code",
   "execution_count": null,
   "id": "7",
   "metadata": {},
   "outputs": [],
   "source": [
    "test = coral.filter(\n",
    "    lambda sample: sample[\"id_speaker\"] in TEST_SET_SPEAKER_IDS\n",
    "    and sample[\"asr_cer\"] < 0.6\n",
    "    and sample[\"validated\"] != \"rejected\"\n",
    "    and sample[\"validated\"] != \"maybe\",\n",
    "    num_proc=8,\n",
    ")\n",
    "val = coral.filter(\n",
    "    lambda sample: sample[\"id_speaker\"] in VALIDATION_SET_SPEAKER_IDS\n",
    "    and sample[\"asr_cer\"] < 0.6\n",
    "    and sample[\"validated\"] != \"rejected\"\n",
    "    and sample[\"validated\"] != \"maybe\",\n",
    "    num_proc=8,\n",
    ")\n",
    "train = coral.filter(\n",
    "    lambda sample: sample[\"id_speaker\"]\n",
    "    not in TEST_SET_SPEAKER_IDS + VALIDATION_SET_SPEAKER_IDS\n",
    "    and sample[\"asr_cer\"] < 0.6\n",
    "    and sample[\"validated\"] != \"rejected\",\n",
    "    num_proc=8,\n",
    ")"
   ]
  },
  {
   "cell_type": "code",
   "execution_count": null,
   "id": "8",
   "metadata": {},
   "outputs": [],
   "source": [
    "test_hours = sum(\n",
    "    sample[\"audio\"][\"array\"].shape[0] / sample[\"audio\"][\"sampling_rate\"] / 60 / 60\n",
    "    for sample in tqdm(test)\n",
    ")\n",
    "val_hours = sum(\n",
    "    sample[\"audio\"][\"array\"].shape[0] / sample[\"audio\"][\"sampling_rate\"] / 60 / 60\n",
    "    for sample in tqdm(val)\n",
    ")\n",
    "train_hours = sum(\n",
    "    sample[\"audio\"][\"array\"].shape[0] / sample[\"audio\"][\"sampling_rate\"] / 60 / 60\n",
    "    for sample in tqdm(train)\n",
    ")\n",
    "print(f\"Test hours: {test_hours:.2f}\")\n",
    "print(f\"Val hours: {val_hours:.2f}\")\n",
    "print(f\"Train hours: {train_hours:.2f}\")"
   ]
  },
  {
   "cell_type": "code",
   "execution_count": null,
   "id": "9",
   "metadata": {},
   "outputs": [],
   "source": [
    "new_coral = DatasetDict(dict(train=train, val=val, test=test))\n",
    "new_coral"
   ]
  },
  {
   "cell_type": "code",
   "execution_count": null,
   "id": "10",
   "metadata": {},
   "outputs": [],
   "source": [
    "new_coral.push_to_hub(\"alexandrainst/coral\", \"read_aloud\")"
   ]
  }
 ],
 "metadata": {
  "kernelspec": {
   "display_name": "Python 3 (ipykernel)",
   "language": "python",
   "name": "python3"
  },
  "language_info": {
   "codemirror_mode": {
    "name": "ipython",
    "version": 3
   },
   "file_extension": ".py",
   "mimetype": "text/x-python",
   "name": "python",
   "nbconvert_exporter": "python",
   "pygments_lexer": "ipython3",
   "version": "3.11.9"
  }
 },
 "nbformat": 4,
 "nbformat_minor": 5
}
